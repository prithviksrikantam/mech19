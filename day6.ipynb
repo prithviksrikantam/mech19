{
 "cells": [
  {
   "cell_type": "code",
   "execution_count": 1,
   "metadata": {},
   "outputs": [
    {
     "name": "stdout",
     "output_type": "stream",
     "text": [
      "GITAM\n",
      "GITAM\n",
      "GITAM\n",
      "GITAM\n"
     ]
    }
   ],
   "source": [
    "print(\"GITAM\")\n",
    "print(\"GITAM\")\n",
    "print(\"GITAM\")\n",
    "print(\"GITAM\")"
   ]
  },
  {
   "cell_type": "code",
   "execution_count": 2,
   "metadata": {},
   "outputs": [
    {
     "name": "stdout",
     "output_type": "stream",
     "text": [
      "GITAM\n",
      "GITAM\n",
      "GITAM\n",
      "GITAM\n",
      "GITAM\n"
     ]
    }
   ],
   "source": [
    "x = 0\n",
    "while x < 5:\n",
    "    print(\"GITAM\")\n",
    "    x = x + 1"
   ]
  },
  {
   "cell_type": "code",
   "execution_count": 4,
   "metadata": {},
   "outputs": [
    {
     "name": "stdout",
     "output_type": "stream",
     "text": [
      "Enter a number 10\n",
      "1 2 3 4 5 6 7 8 9 10 "
     ]
    }
   ],
   "source": [
    "# print N natural numbers using whil loop\n",
    "# input =  10\n",
    "n = int(input(\"Enter a number \"))\n",
    "i = 1\n",
    "while i <= n:\n",
    "    print(i , end = \" \")\n",
    "    i  = i + 1"
   ]
  },
  {
   "cell_type": "code",
   "execution_count": 5,
   "metadata": {},
   "outputs": [
    {
     "name": "stdout",
     "output_type": "stream",
     "text": [
      "Enter a number30\n",
      "15\n"
     ]
    }
   ],
   "source": [
    "# read a number -- n\n",
    "# add only even numbers between 1 to n\n",
    "# input --\n",
    "# output --\n",
    "n = int( input(\"Enter a number\"))\n",
    "i = 1\n",
    "sum = 0\n",
    "while i <= n:\n",
    "    if i % 2 == 0:\n",
    "        sum = sum + 1\n",
    "    i = i + 1\n",
    "print(sum)    "
   ]
  },
  {
   "cell_type": "code",
   "execution_count": 6,
   "metadata": {},
   "outputs": [
    {
     "name": "stdout",
     "output_type": "stream",
     "text": [
      "Enter a number124\n",
      "4 2 1 "
     ]
    }
   ],
   "source": [
    "# Number as a Number ---123\n",
    "# Print the digits of given number : 3 2 1\n",
    "n = int(input(\"Enter a number\"))\n",
    "while n !=0:\n",
    "    r = n% 10\n",
    "    print(r, end = \" \")\n",
    "    n = n // 10"
   ]
  },
  {
   "cell_type": "markdown",
   "metadata": {},
   "source": [
    "## Functional programmimg\n",
    "### simple\n",
    "### easy to read\n",
    "### lenghty into sub programms"
   ]
  },
  {
   "cell_type": "code",
   "execution_count": null,
   "metadata": {},
   "outputs": [],
   "source": [
    "def nameofthefunctional(<parameters>):\n",
    "    statement\n",
    "    return"
   ]
  },
  {
   "cell_type": "code",
   "execution_count": 9,
   "metadata": {},
   "outputs": [],
   "source": [
    "def addevendigits(n):\n",
    "    #statement to compute the output of the program\n",
    "    return\n",
    "addevendigits(1234)"
   ]
  },
  {
   "cell_type": "code",
   "execution_count": 13,
   "metadata": {},
   "outputs": [
    {
     "data": {
      "text/plain": [
       "9"
      ]
     },
     "execution_count": 13,
     "metadata": {},
     "output_type": "execute_result"
    }
   ],
   "source": [
    "#read a number -- 19258\n",
    "# print the large digit in the number\n",
    "def printlarge(n):\n",
    "    large = 9\n",
    "    while n != 0:\n",
    "        if large < r:\n",
    "            large = r\n",
    "        n = n // 10    \n",
    "    return large\n",
    "printlarge(1958)"
   ]
  },
  {
   "cell_type": "code",
   "execution_count": 16,
   "metadata": {},
   "outputs": [
    {
     "data": {
      "text/plain": [
       "321"
      ]
     },
     "execution_count": 16,
     "metadata": {},
     "output_type": "execute_result"
    }
   ],
   "source": [
    "# read a number input\n",
    "# output reverse of the given number \n",
    "# 123 -- 321\n",
    "def reversenumber(n):\n",
    "    rev = 0\n",
    "    while n !=0:\n",
    "        r = n% 10\n",
    "        rev = rev * 10 + r\n",
    "        n = n // 10\n",
    "    return rev\n",
    "reversenumber(123)"
   ]
  },
  {
   "cell_type": "code",
   "execution_count": 19,
   "metadata": {},
   "outputs": [
    {
     "name": "stdout",
     "output_type": "stream",
     "text": [
      "no\n",
      "yes\n"
     ]
    }
   ],
   "source": [
    "def ispalindrom(n):\n",
    "    rev = 0\n",
    "    buffer = n\n",
    "    while n !=0:\n",
    "        r = n % 10\n",
    "        rev = rev * 10 + r\n",
    "        n = n // 10\n",
    "    if buffer == rev:\n",
    "        return \"yes\"\n",
    "    else: \n",
    "        return \"no\"\n",
    "print(ispalindrom(123))\n",
    "print(ispalindrom(121))"
   ]
  },
  {
   "cell_type": "code",
   "execution_count": null,
   "metadata": {},
   "outputs": [],
   "source": []
  }
 ],
 "metadata": {
  "kernelspec": {
   "display_name": "Python 3",
   "language": "python",
   "name": "python3"
  },
  "language_info": {
   "codemirror_mode": {
    "name": "ipython",
    "version": 3
   },
   "file_extension": ".py",
   "mimetype": "text/x-python",
   "name": "python",
   "nbconvert_exporter": "python",
   "pygments_lexer": "ipython3",
   "version": "3.7.3"
  }
 },
 "nbformat": 4,
 "nbformat_minor": 2
}
